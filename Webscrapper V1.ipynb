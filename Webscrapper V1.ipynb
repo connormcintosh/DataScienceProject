{
 "cells": [
  {
   "cell_type": "code",
   "execution_count": 5,
   "metadata": {},
   "outputs": [],
   "source": [
    "import requests\n",
    "import urllib.request\n",
    "import time\n",
    "from bs4 import BeautifulSoup"
   ]
  },
  {
   "cell_type": "code",
   "execution_count": 7,
   "metadata": {},
   "outputs": [],
   "source": [
    "url = \"https://www.ratemyprofessors.com/ShowRatings.jsp?tid=186093&showMyProfs=true\"\n",
    "response = requests.get(url)"
   ]
  },
  {
   "cell_type": "code",
   "execution_count": 11,
   "metadata": {},
   "outputs": [],
   "source": [
    "soup = BeautifulSoup(response.text, \"html.parser\")"
   ]
  },
  {
   "cell_type": "code",
   "execution_count": 18,
   "metadata": {},
   "outputs": [
    {
     "data": {
      "text/plain": [
       "[<a alt=\"RateMyProfessors Logo\" class=\"Header__Logo-hrcr6f-2 hTKvVu\" href=\"https://www.ratemyprofessors.com/\"></a>,\n",
       " <a href=\"https://www.facebook.com/RateMyProfessor\"><img alt=\"RateMyProfessors on Facebook\" class=\"SocialIconLink__SocialIcon-sc-1iq78in-0 krGxHA\" src=\"/static/media/facebook.5840155b.svg\"/></a>,\n",
       " <a href=\"https://www.instagram.com/ratemyprofessors/\"><img alt=\"RateMyProfessors on Instagram\" class=\"SocialIconLink__SocialIcon-sc-1iq78in-0 krGxHA\" src=\"/static/media/instagram.133cb50f.svg\"/></a>,\n",
       " <a href=\"https://twitter.com/ratemyprofessor\"><img alt=\"RateMyProfessors on Twitter\" class=\"SocialIconLink__SocialIcon-sc-1iq78in-0 krGxHA\" src=\"/static/media/twitter.45d739c1.svg\"/></a>,\n",
       " <a class=\"UserMenu__LoginLink-sc-1rv45rg-0 hhweeG\" href=\"https://www.ratemyprofessors.com/member\">Login/Sign Up</a>,\n",
       " <a class=\"JumpToRatings__StyledJumpToRatings-sc-1v42jg0-0 dNwPAn\" href=\"#ratingsList\"><span>Jump To Ratings</span> <img alt=\"Down Arrow\" src=\"/static/media/down-arrow-black.531d82ab.svg\"/></a>,\n",
       " <a href=\"#ratingsList\">840<!-- --> ratings</a>,\n",
       " <a href=\"https://www.ratemyprofessors.com/campusRatings.jsp??sid=1077\">University of California Santa Barbara</a>,\n",
       " <a class=\"TeacherInfo__RateButton-ti1fio-0 fAWPLU\" href=\"https://www.ratemyprofessors.com/AddRating.jsp?tid=186093\">Rate Professor <!-- -->Cooper</a>,\n",
       " <a class=\"NameLink__StyledLink-sc-4u2ek-1 bciCFU\" href=\"https://www.ratemyprofessors.com/joinprof.jsp?id=186093\">I'm Professor <!-- -->Cooper</a>,\n",
       " <a class=\"NameLink__StyledLink-sc-4u2ek-1 bciCFU\" href=\"https://www.ratemyprofessors.com/submitCorrection.jsp?tid=186093\">Submit a Correction</a>,\n",
       " <a class=\"SimilarProfessorListItem__StyledSimilarProfessorLink-x7cr0c-2 ePAIXC\" href=\"/ShowRatings.jsp?tid=1679194\"><span class=\"SimilarProfessorListItem__TeacherScoreSpan-x7cr0c-0 gAbSXG\">4.95</span><span class=\"SimilarProfessorListItem__TeacherNameSpan-x7cr0c-1 gMAFfH\">Brandon<!-- --> <!-- -->Kerr</span></a>,\n",
       " <a class=\"SimilarProfessorListItem__StyledSimilarProfessorLink-x7cr0c-2 ePAIXC\" href=\"/ShowRatings.jsp?tid=1844801\"><span class=\"SimilarProfessorListItem__TeacherScoreSpan-x7cr0c-0 gAbSXG\">4.89</span><span class=\"SimilarProfessorListItem__TeacherNameSpan-x7cr0c-1 gMAFfH\">Padraic<!-- --> <!-- -->Bartlett</span></a>,\n",
       " <a class=\"SimilarProfessorListItem__StyledSimilarProfessorLink-x7cr0c-2 ePAIXC\" href=\"/ShowRatings.jsp?tid=1475837\"><span class=\"SimilarProfessorListItem__TeacherScoreSpan-x7cr0c-0 gAbSXG\">4.83</span><span class=\"SimilarProfessorListItem__TeacherNameSpan-x7cr0c-1 gMAFfH\">Drew<!-- --> <!-- -->Jaramillo</span></a>,\n",
       " <a href=\"https://www.ratemyprofessors.com/flagTeacherRating.jsp?rid=32355714\"><img alt=\"Flag\" src=\"/static/media/flag-black.127d505f.svg\"/></a>,\n",
       " <a href=\"https://www.ratemyprofessors.com/flagTeacherRating.jsp?rid=32083030\"><img alt=\"Flag\" src=\"/static/media/flag-black.127d505f.svg\"/></a>,\n",
       " <a href=\"https://www.ratemyprofessors.com/flagTeacherRating.jsp?rid=31741847\"><img alt=\"Flag\" src=\"/static/media/flag-black.127d505f.svg\"/></a>,\n",
       " <a href=\"https://www.ratemyprofessors.com/flagTeacherRating.jsp?rid=31659535\"><img alt=\"Flag\" src=\"/static/media/flag-black.127d505f.svg\"/></a>,\n",
       " <a href=\"https://www.ratemyprofessors.com/flagTeacherRating.jsp?rid=31636418\"><img alt=\"Flag\" src=\"/static/media/flag-black.127d505f.svg\"/></a>,\n",
       " <a href=\"https://www.ratemyprofessors.com/flagTeacherRating.jsp?rid=31610911\"><img alt=\"Flag\" src=\"/static/media/flag-black.127d505f.svg\"/></a>,\n",
       " <a href=\"https://www.ratemyprofessors.com/flagTeacherRating.jsp?rid=31534525\"><img alt=\"Flag\" src=\"/static/media/flag-black.127d505f.svg\"/></a>,\n",
       " <a href=\"https://www.ratemyprofessors.com/flagTeacherRating.jsp?rid=31520097\"><img alt=\"Flag\" src=\"/static/media/flag-black.127d505f.svg\"/></a>,\n",
       " <a href=\"https://www.ratemyprofessors.com/flagTeacherRating.jsp?rid=31515848\"><img alt=\"Flag\" src=\"/static/media/flag-black.127d505f.svg\"/></a>,\n",
       " <a href=\"https://www.ratemyprofessors.com/flagTeacherRating.jsp?rid=31504361\"><img alt=\"Flag\" src=\"/static/media/flag-black.127d505f.svg\"/></a>,\n",
       " <a href=\"https://www.ratemyprofessors.com/flagTeacherRating.jsp?rid=31478856\"><img alt=\"Flag\" src=\"/static/media/flag-black.127d505f.svg\"/></a>,\n",
       " <a href=\"https://www.ratemyprofessors.com/flagTeacherRating.jsp?rid=31478002\"><img alt=\"Flag\" src=\"/static/media/flag-black.127d505f.svg\"/></a>,\n",
       " <a href=\"https://www.ratemyprofessors.com/flagTeacherRating.jsp?rid=31465913\"><img alt=\"Flag\" src=\"/static/media/flag-black.127d505f.svg\"/></a>,\n",
       " <a href=\"https://www.ratemyprofessors.com/flagTeacherRating.jsp?rid=31456231\"><img alt=\"Flag\" src=\"/static/media/flag-black.127d505f.svg\"/></a>,\n",
       " <a href=\"https://www.ratemyprofessors.com/flagTeacherRating.jsp?rid=31453434\"><img alt=\"Flag\" src=\"/static/media/flag-black.127d505f.svg\"/></a>,\n",
       " <a href=\"https://www.ratemyprofessors.com/flagTeacherRating.jsp?rid=31447909\"><img alt=\"Flag\" src=\"/static/media/flag-black.127d505f.svg\"/></a>,\n",
       " <a href=\"https://www.ratemyprofessors.com/flagTeacherRating.jsp?rid=31442840\"><img alt=\"Flag\" src=\"/static/media/flag-black.127d505f.svg\"/></a>,\n",
       " <a href=\"https://www.ratemyprofessors.com/flagTeacherRating.jsp?rid=31440634\"><img alt=\"Flag\" src=\"/static/media/flag-black.127d505f.svg\"/></a>,\n",
       " <a href=\"https://www.ratemyprofessors.com/flagTeacherRating.jsp?rid=31257749\"><img alt=\"Flag\" src=\"/static/media/flag-black.127d505f.svg\"/></a>,\n",
       " <a href=\"https://www.ratemyprofessors.com/flagTeacherRating.jsp?rid=31195460\"><img alt=\"Flag\" src=\"/static/media/flag-black.127d505f.svg\"/></a>,\n",
       " <a href=\"/privacy\">Privacy Policy</a>,\n",
       " <a href=\"/ccpa\">CA Do Not Sell My Info</a>,\n",
       " <a class=\"Footer__FooterToggle-rgimce-2 FLWiZ\">Show<!-- --> Footer</a>,\n",
       " <a class=\"FooterLogo__StyledLogo-sc-8mnx3d-0 iJidvq\" href=\"/\"><img alt=\"Logo\" src=\"/static/media/small.4d5ff7fa.svg\"/></a>,\n",
       " <a href=\"https://www.ratemyprofessors.com/About.jsp\">About</a>,\n",
       " <a href=\"https://help.ratemyprofessors.com/\">Help</a>,\n",
       " <a href=\"https://help.ratemyprofessors.com/\">Contact Us</a>,\n",
       " <a href=\"/guidelines\">Site Guidelines</a>,\n",
       " <a href=\"/terms-of-use\">Terms &amp; Conditions</a>,\n",
       " <a href=\"/privacy\">Privacy Policy</a>,\n",
       " <a href=\"/copyright\">Copyright Compliance Policy</a>,\n",
       " <a href=\"/privacy\">Ad Choices</a>,\n",
       " <a href=\"https://www.optimum.com/\">Optimum</a>,\n",
       " <a href=\"https://www.suddenlink.com/\">Suddenlink</a>,\n",
       " <a class=\"FooterLogo__StyledLogo-sc-8mnx3d-0 jiMvpq\" href=\"/\"><img alt=\"Logo\" src=\"/static/media/small.4d5ff7fa.svg\"/></a>,\n",
       " <a href=\"https://www.facebook.com/RateMyProfessor\"><img alt=\"RateMyProfessors on Facebook\" class=\"SocialIconLink__SocialIcon-sc-1iq78in-0 krGxHA\" src=\"/static/media/facebook.5840155b.svg\"/></a>,\n",
       " <a href=\"https://www.instagram.com/ratemyprofessors/\"><img alt=\"RateMyProfessors on Instagram\" class=\"SocialIconLink__SocialIcon-sc-1iq78in-0 krGxHA\" src=\"/static/media/instagram.133cb50f.svg\"/></a>,\n",
       " <a href=\"https://twitter.com/ratemyprofessor\"><img alt=\"RateMyProfessors on Twitter\" class=\"SocialIconLink__SocialIcon-sc-1iq78in-0 krGxHA\" src=\"/static/media/twitter.45d739c1.svg\"/></a>]"
      ]
     },
     "execution_count": 18,
     "metadata": {},
     "output_type": "execute_result"
    }
   ],
   "source": [
    "soup.findAll('a')"
   ]
  },
  {
   "cell_type": "code",
   "execution_count": 17,
   "metadata": {},
   "outputs": [
    {
     "ename": "KeyError",
     "evalue": "'href'",
     "output_type": "error",
     "traceback": [
      "\u001b[1;31m---------------------------------------------------------------------------\u001b[0m",
      "\u001b[1;31mKeyError\u001b[0m                                  Traceback (most recent call last)",
      "\u001b[1;32m<ipython-input-17-1f1d6a197b11>\u001b[0m in \u001b[0;36m<module>\u001b[1;34m\u001b[0m\n\u001b[0;32m      2\u001b[0m \u001b[1;32mfor\u001b[0m \u001b[0mone_a_tag\u001b[0m \u001b[1;32min\u001b[0m \u001b[0msoup\u001b[0m\u001b[1;33m.\u001b[0m\u001b[0mfindAll\u001b[0m\u001b[1;33m(\u001b[0m\u001b[1;34m'a'\u001b[0m\u001b[1;33m)\u001b[0m\u001b[1;33m:\u001b[0m  \u001b[1;31m#'a' tags are for links\u001b[0m\u001b[1;33m\u001b[0m\u001b[1;33m\u001b[0m\u001b[0m\n\u001b[0;32m      3\u001b[0m     \u001b[1;32mif\u001b[0m \u001b[0mline_count\u001b[0m \u001b[1;33m>=\u001b[0m \u001b[1;36m36\u001b[0m\u001b[1;33m:\u001b[0m \u001b[1;31m#code for text files starts at line 36\u001b[0m\u001b[1;33m\u001b[0m\u001b[1;33m\u001b[0m\u001b[0m\n\u001b[1;32m----> 4\u001b[1;33m         \u001b[0mlink\u001b[0m \u001b[1;33m=\u001b[0m \u001b[0mone_a_tag\u001b[0m\u001b[1;33m[\u001b[0m\u001b[1;34m'href'\u001b[0m\u001b[1;33m]\u001b[0m\u001b[1;33m\u001b[0m\u001b[1;33m\u001b[0m\u001b[0m\n\u001b[0m\u001b[0;32m      5\u001b[0m         \u001b[0mdownload_url\u001b[0m \u001b[1;33m=\u001b[0m \u001b[1;34m'https://www.ratemyprofessors.com/ShowRatings.jsp?tid=186093&showMyProfs=true'\u001b[0m\u001b[1;33m+\u001b[0m \u001b[0mlink\u001b[0m\u001b[1;33m\u001b[0m\u001b[1;33m\u001b[0m\u001b[0m\n\u001b[0;32m      6\u001b[0m         \u001b[0murllib\u001b[0m\u001b[1;33m.\u001b[0m\u001b[0mrequest\u001b[0m\u001b[1;33m.\u001b[0m\u001b[0murlretrieve\u001b[0m\u001b[1;33m(\u001b[0m\u001b[0mdownload_url\u001b[0m\u001b[1;33m,\u001b[0m\u001b[1;34m'./'\u001b[0m\u001b[1;33m+\u001b[0m\u001b[0mlink\u001b[0m\u001b[1;33m[\u001b[0m\u001b[0mlink\u001b[0m\u001b[1;33m.\u001b[0m\u001b[0mfind\u001b[0m\u001b[1;33m(\u001b[0m\u001b[1;34m'/turnstile_'\u001b[0m\u001b[1;33m)\u001b[0m\u001b[1;33m+\u001b[0m\u001b[1;36m1\u001b[0m\u001b[1;33m:\u001b[0m\u001b[1;33m]\u001b[0m\u001b[1;33m)\u001b[0m\u001b[1;33m\u001b[0m\u001b[1;33m\u001b[0m\u001b[0m\n",
      "\u001b[1;32m~\\Anaconda3\\lib\\site-packages\\bs4\\element.py\u001b[0m in \u001b[0;36m__getitem__\u001b[1;34m(self, key)\u001b[0m\n\u001b[0;32m    969\u001b[0m         \"\"\"tag[key] returns the value of the 'key' attribute for the tag,\n\u001b[0;32m    970\u001b[0m         and throws an exception if it's not there.\"\"\"\n\u001b[1;32m--> 971\u001b[1;33m         \u001b[1;32mreturn\u001b[0m \u001b[0mself\u001b[0m\u001b[1;33m.\u001b[0m\u001b[0mattrs\u001b[0m\u001b[1;33m[\u001b[0m\u001b[0mkey\u001b[0m\u001b[1;33m]\u001b[0m\u001b[1;33m\u001b[0m\u001b[1;33m\u001b[0m\u001b[0m\n\u001b[0m\u001b[0;32m    972\u001b[0m \u001b[1;33m\u001b[0m\u001b[0m\n\u001b[0;32m    973\u001b[0m     \u001b[1;32mdef\u001b[0m \u001b[0m__iter__\u001b[0m\u001b[1;33m(\u001b[0m\u001b[0mself\u001b[0m\u001b[1;33m)\u001b[0m\u001b[1;33m:\u001b[0m\u001b[1;33m\u001b[0m\u001b[1;33m\u001b[0m\u001b[0m\n",
      "\u001b[1;31mKeyError\u001b[0m: 'href'"
     ]
    }
   ],
   "source": [
    "line_count = 1 #variable to track what line you are on\n",
    "for one_a_tag in soup.findAll('a'):  #'a' tags are for links\n",
    "    if line_count >= 36: #code for text files starts at line 36\n",
    "        link = one_a_tag['rating']\n",
    "        download_url = 'https://www.ratemyprofessors.com/ShowRatings.jsp?tid=186093&showMyProfs=true'+ link\n",
    "        urllib.request.urlretrieve(download_url,'./'+link[link.find('/turnstile_')+1:]) \n",
    "        time.sleep(1) #pause the code for a sec\n",
    "    #add 1 for next line\n",
    "    line_count +=1"
   ]
  }
 ],
 "metadata": {
  "kernelspec": {
   "display_name": "Python 3",
   "language": "python",
   "name": "python3"
  },
  "language_info": {
   "codemirror_mode": {
    "name": "ipython",
    "version": 3
   },
   "file_extension": ".py",
   "mimetype": "text/x-python",
   "name": "python",
   "nbconvert_exporter": "python",
   "pygments_lexer": "ipython3",
   "version": "3.7.4"
  }
 },
 "nbformat": 4,
 "nbformat_minor": 2
}
